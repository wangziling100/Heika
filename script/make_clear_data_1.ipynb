{
 "cells": [
  {
   "cell_type": "markdown",
   "metadata": {},
   "source": [
    "the initial data is already cleared according to their length and correlation"
   ]
  },
  {
   "cell_type": "code",
   "execution_count": 1,
   "metadata": {},
   "outputs": [],
   "source": [
    "%reset -f\n",
    "\n",
    "import pandas as pd\n",
    "import os\n",
    "import re\n",
    "import numpy as np\n",
    "from six.moves import xrange\n",
    "import math\n",
    "import seaborn as sns\n",
    "import matplotlib.pyplot as plt\n",
    "from scipy.stats import pearsonr"
   ]
  },
  {
   "cell_type": "code",
   "execution_count": 2,
   "metadata": {},
   "outputs": [],
   "source": [
    "def calc_force(df):\n",
    "    df['force'] = df['Fx']**2 + df['Fy']**2 + df['Fz']**2\n",
    "    df['force'] = df['force'].pow(1/2)\n",
    "    return df\n",
    "\n",
    "def calc_velocity(df):\n",
    "    df['velocity'] = df['Lx']**2 + df['Ly']**2 + df['Lz']\n",
    "    df['velocity'] = df['velocity'].pow(1/2)\n",
    "    return df"
   ]
  },
  {
   "cell_type": "markdown",
   "metadata": {},
   "source": [
    "### load precleared data"
   ]
  },
  {
   "cell_type": "code",
   "execution_count": 3,
   "metadata": {},
   "outputs": [
    {
     "data": {
      "text/html": [
       "<div>\n",
       "<style scoped>\n",
       "    .dataframe tbody tr th:only-of-type {\n",
       "        vertical-align: middle;\n",
       "    }\n",
       "\n",
       "    .dataframe tbody tr th {\n",
       "        vertical-align: top;\n",
       "    }\n",
       "\n",
       "    .dataframe thead th {\n",
       "        text-align: right;\n",
       "    }\n",
       "</style>\n",
       "<table border=\"1\" class=\"dataframe\">\n",
       "  <thead>\n",
       "    <tr style=\"text-align: right;\">\n",
       "      <th></th>\n",
       "      <th>day</th>\n",
       "      <th>uid</th>\n",
       "      <th>exc_num</th>\n",
       "      <th>exc_times</th>\n",
       "      <th>velocity</th>\n",
       "      <th>force</th>\n",
       "      <th>front</th>\n",
       "    </tr>\n",
       "  </thead>\n",
       "  <tbody>\n",
       "    <tr>\n",
       "      <th>0</th>\n",
       "      <td>1</td>\n",
       "      <td>7</td>\n",
       "      <td>1.4</td>\n",
       "      <td>3</td>\n",
       "      <td>0.258776</td>\n",
       "      <td>35.449781</td>\n",
       "      <td>0.178614</td>\n",
       "    </tr>\n",
       "    <tr>\n",
       "      <th>1</th>\n",
       "      <td>1</td>\n",
       "      <td>7</td>\n",
       "      <td>1.4</td>\n",
       "      <td>3</td>\n",
       "      <td>0.258776</td>\n",
       "      <td>35.449781</td>\n",
       "      <td>0.178614</td>\n",
       "    </tr>\n",
       "    <tr>\n",
       "      <th>2</th>\n",
       "      <td>1</td>\n",
       "      <td>7</td>\n",
       "      <td>1.4</td>\n",
       "      <td>3</td>\n",
       "      <td>0.258776</td>\n",
       "      <td>35.449781</td>\n",
       "      <td>0.178614</td>\n",
       "    </tr>\n",
       "    <tr>\n",
       "      <th>3</th>\n",
       "      <td>1</td>\n",
       "      <td>7</td>\n",
       "      <td>1.4</td>\n",
       "      <td>3</td>\n",
       "      <td>0.275260</td>\n",
       "      <td>34.657235</td>\n",
       "      <td>0.178936</td>\n",
       "    </tr>\n",
       "    <tr>\n",
       "      <th>4</th>\n",
       "      <td>1</td>\n",
       "      <td>7</td>\n",
       "      <td>1.4</td>\n",
       "      <td>3</td>\n",
       "      <td>0.275260</td>\n",
       "      <td>34.657235</td>\n",
       "      <td>0.178936</td>\n",
       "    </tr>\n",
       "  </tbody>\n",
       "</table>\n",
       "</div>"
      ],
      "text/plain": [
       "   day  uid  exc_num  exc_times  velocity      force     front\n",
       "0    1    7      1.4          3  0.258776  35.449781  0.178614\n",
       "1    1    7      1.4          3  0.258776  35.449781  0.178614\n",
       "2    1    7      1.4          3  0.258776  35.449781  0.178614\n",
       "3    1    7      1.4          3  0.275260  34.657235  0.178936\n",
       "4    1    7      1.4          3  0.275260  34.657235  0.178936"
      ]
     },
     "execution_count": 3,
     "metadata": {},
     "output_type": "execute_result"
    }
   ],
   "source": [
    "all_data = pd.read_csv('../data/new_all_data.csv')\n",
    "all_data = calc_force(all_data)\n",
    "all_data = calc_velocity(all_data)\n",
    "all_data = all_data[['day', 'uid', 'exc_num', 'exc_times', 'velocity', 'force', 'front']]\n",
    "all_data.head()"
   ]
  },
  {
   "cell_type": "markdown",
   "metadata": {},
   "source": [
    "### clear outlier that recorded in file"
   ]
  },
  {
   "cell_type": "code",
   "execution_count": 6,
   "metadata": {},
   "outputs": [],
   "source": [
    "outliers = []\n",
    "\n",
    "with open('../data/figure/deviation_curves_outlier.csv') as f:\n",
    "    for line in f.readlines():\n",
    "        tmp = line.split('\\n')[0].split(' ')\n",
    "       \n",
    "        outliers.append([float(x) for x in tmp])\n",
    "        \n",
    "groups = all_data.set_index(['day', 'exc_num', 'exc_times', 'uid'])\n",
    "groups = groups.groupby(by=groups.index)\n",
    "\n",
    "new_data = pd.DataFrame()\n",
    "\n",
    "for index, group in groups:\n",
    "    if len(group)<10:\n",
    "        continue\n",
    "    day, exc_num, exc_times, uid = index\n",
    "    exc_num = round(exc_num, 1)\n",
    "    if [day, exc_num, exc_times, uid] in outliers:\n",
    "        pass\n",
    "#         tmp = group.reset_index()\n",
    "#         sns.set_style('whitegrid')\n",
    "#         f, ax= plt.subplots(figsize = (14, 10))\n",
    "#         ax = sns.lineplot(x=tmp.index, y=\"front\", data=tmp)\n",
    "#         ax.set_title(index) \n",
    "    else:\n",
    "        curr = group.reset_index()\n",
    "        new_data = pd.concat([new_data, curr], axis=0)"
   ]
  },
  {
   "cell_type": "code",
   "execution_count": 7,
   "metadata": {},
   "outputs": [
    {
     "data": {
      "text/html": [
       "<div>\n",
       "<style scoped>\n",
       "    .dataframe tbody tr th:only-of-type {\n",
       "        vertical-align: middle;\n",
       "    }\n",
       "\n",
       "    .dataframe tbody tr th {\n",
       "        vertical-align: top;\n",
       "    }\n",
       "\n",
       "    .dataframe thead th {\n",
       "        text-align: right;\n",
       "    }\n",
       "</style>\n",
       "<table border=\"1\" class=\"dataframe\">\n",
       "  <thead>\n",
       "    <tr style=\"text-align: right;\">\n",
       "      <th></th>\n",
       "      <th>day</th>\n",
       "      <th>exc_num</th>\n",
       "      <th>exc_times</th>\n",
       "      <th>uid</th>\n",
       "      <th>velocity</th>\n",
       "      <th>force</th>\n",
       "      <th>front</th>\n",
       "    </tr>\n",
       "  </thead>\n",
       "  <tbody>\n",
       "    <tr>\n",
       "      <th>0</th>\n",
       "      <td>1</td>\n",
       "      <td>1.1</td>\n",
       "      <td>1</td>\n",
       "      <td>4</td>\n",
       "      <td>0.021297</td>\n",
       "      <td>18.561272</td>\n",
       "      <td>0.011647</td>\n",
       "    </tr>\n",
       "    <tr>\n",
       "      <th>1</th>\n",
       "      <td>1</td>\n",
       "      <td>1.1</td>\n",
       "      <td>1</td>\n",
       "      <td>4</td>\n",
       "      <td>0.021297</td>\n",
       "      <td>18.561272</td>\n",
       "      <td>0.011647</td>\n",
       "    </tr>\n",
       "    <tr>\n",
       "      <th>2</th>\n",
       "      <td>1</td>\n",
       "      <td>1.1</td>\n",
       "      <td>1</td>\n",
       "      <td>4</td>\n",
       "      <td>0.023768</td>\n",
       "      <td>23.049513</td>\n",
       "      <td>0.011971</td>\n",
       "    </tr>\n",
       "    <tr>\n",
       "      <th>3</th>\n",
       "      <td>1</td>\n",
       "      <td>1.1</td>\n",
       "      <td>1</td>\n",
       "      <td>4</td>\n",
       "      <td>0.023768</td>\n",
       "      <td>23.049513</td>\n",
       "      <td>0.012333</td>\n",
       "    </tr>\n",
       "    <tr>\n",
       "      <th>4</th>\n",
       "      <td>1</td>\n",
       "      <td>1.1</td>\n",
       "      <td>1</td>\n",
       "      <td>4</td>\n",
       "      <td>0.031793</td>\n",
       "      <td>32.181287</td>\n",
       "      <td>0.012333</td>\n",
       "    </tr>\n",
       "  </tbody>\n",
       "</table>\n",
       "</div>"
      ],
      "text/plain": [
       "   day  exc_num  exc_times  uid  velocity      force     front\n",
       "0    1      1.1          1    4  0.021297  18.561272  0.011647\n",
       "1    1      1.1          1    4  0.021297  18.561272  0.011647\n",
       "2    1      1.1          1    4  0.023768  23.049513  0.011971\n",
       "3    1      1.1          1    4  0.023768  23.049513  0.012333\n",
       "4    1      1.1          1    4  0.031793  32.181287  0.012333"
      ]
     },
     "execution_count": 7,
     "metadata": {},
     "output_type": "execute_result"
    }
   ],
   "source": [
    "new_data.head()"
   ]
  },
  {
   "cell_type": "code",
   "execution_count": 8,
   "metadata": {},
   "outputs": [],
   "source": [
    "new_data.to_csv('../data/step1_clear_data.csv')"
   ]
  },
  {
   "cell_type": "code",
   "execution_count": null,
   "metadata": {},
   "outputs": [],
   "source": []
  }
 ],
 "metadata": {
  "kernelspec": {
   "display_name": "Python 3",
   "language": "python",
   "name": "python3"
  },
  "language_info": {
   "codemirror_mode": {
    "name": "ipython",
    "version": 3
   },
   "file_extension": ".py",
   "mimetype": "text/x-python",
   "name": "python",
   "nbconvert_exporter": "python",
   "pygments_lexer": "ipython3",
   "version": "3.6.5"
  }
 },
 "nbformat": 4,
 "nbformat_minor": 2
}
